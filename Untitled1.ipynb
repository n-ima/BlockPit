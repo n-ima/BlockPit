{
  "nbformat": 4,
  "nbformat_minor": 0,
  "metadata": {
    "colab": {
      "provenance": [],
      "history_visible": true,
      "authorship_tag": "ABX9TyNFvk6jFIdzkKQKn5UmpEPH",
      "include_colab_link": true
    },
    "kernelspec": {
      "name": "python3",
      "display_name": "Python 3"
    },
    "language_info": {
      "name": "python"
    }
  },
  "cells": [
    {
      "cell_type": "markdown",
      "metadata": {
        "id": "view-in-github",
        "colab_type": "text"
      },
      "source": [
        "<a href=\"https://colab.research.google.com/github/n-ima/BlockPit/blob/master/Untitled1.ipynb\" target=\"_parent\"><img src=\"https://colab.research.google.com/assets/colab-badge.svg\" alt=\"Open In Colab\"/></a>"
      ]
    },
    {
      "cell_type": "code",
      "execution_count": null,
      "metadata": {
        "id": "kRZ4bYi9bequ"
      },
      "outputs": [],
      "source": []
    },
    {
      "source": [
        "def sum_of_ten_numbers(numbers):\n",
        "  \"\"\"\n",
        "  This function returns the sum of the first 10 numbers in a list.\n",
        "\n",
        "  Args:\n",
        "    numbers: A list of numbers.\n",
        "\n",
        "  Returns:\n",
        "    The sum of the first 10 numbers in the list.\n",
        "  \"\"\"\n",
        "\n",
        "  sum = 0\n",
        "  for i in range(10):\n",
        "    sum += numbers[i]\n",
        "\n",
        "  return sum\n",
        "\n",
        "# Example usage\n",
        "numbers = [1, 2, 3, 4, 5, 6, 7, 8, 9, 10]\n",
        "print(sum_of_ten_numbers(numbers))"
      ],
      "cell_type": "code",
      "metadata": {
        "colab": {
          "base_uri": "https://localhost:8080/"
        },
        "id": "OV789s8icRil",
        "outputId": "d6d232d5-a663-44fb-e1b6-1559ed146bcb"
      },
      "execution_count": 1,
      "outputs": [
        {
          "output_type": "stream",
          "name": "stdout",
          "text": [
            "55\n"
          ]
        }
      ]
    },
    {
      "cell_type": "markdown",
      "source": [],
      "metadata": {
        "id": "ain3OmtCcmUB"
      }
    },
    {
      "cell_type": "code",
      "source": [],
      "metadata": {
        "id": "eUoc9Ir_cmzq"
      },
      "execution_count": null,
      "outputs": []
    },
    {
      "cell_type": "markdown",
      "source": [
        "ここはそういうこと\n"
      ],
      "metadata": {
        "id": "SXLNpZnvcnYH"
      }
    }
  ]
}